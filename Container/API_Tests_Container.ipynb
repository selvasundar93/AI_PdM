{
 "cells": [
  {
   "cell_type": "markdown",
   "metadata": {},
   "source": [
    "# API Tests - Containerized Application"
   ]
  },
  {
   "cell_type": "code",
   "execution_count": 1,
   "metadata": {},
   "outputs": [],
   "source": [
    "import requests\n",
    "import json"
   ]
  },
  {
   "cell_type": "markdown",
   "metadata": {},
   "source": [
    "## Univariate Anomaly Detection"
   ]
  },
  {
   "cell_type": "code",
   "execution_count": 2,
   "metadata": {},
   "outputs": [
    {
     "name": "stdout",
     "output_type": "stream",
     "text": [
      "{\n",
      "  \"Output\": \"Normal\"\n",
      "}\n",
      "\n"
     ]
    }
   ],
   "source": [
    "url = \"http://127.0.0.1:8001/Ano_Det_Uni\"\n",
    "input_data = {\"rms\":0.0782,\"mean\":0.0619}\n",
    "json_data = json.dumps(input_data)\n",
    "headers = {'Content-Type': 'application/json'}\n",
    "response = requests.request(\"POST\", url, headers=headers, data = json_data)\n",
    "print(response.text)"
   ]
  },
  {
   "cell_type": "code",
   "execution_count": 3,
   "metadata": {},
   "outputs": [
    {
     "name": "stdout",
     "output_type": "stream",
     "text": [
      "{\n",
      "  \"Output\": \"Anomaly\"\n",
      "}\n",
      "\n"
     ]
    }
   ],
   "source": [
    "url = \"http://127.0.0.1:8001/Ano_Det_Uni\"\n",
    "input_data = {\"rms\":0.1585,\"mean\":0.1148}\n",
    "json_data = json.dumps(input_data)\n",
    "headers = {'Content-Type': 'application/json'}\n",
    "response = requests.request(\"POST\", url, headers=headers, data = json_data)\n",
    "print(response.text)"
   ]
  },
  {
   "cell_type": "code",
   "execution_count": 4,
   "metadata": {},
   "outputs": [
    {
     "name": "stdout",
     "output_type": "stream",
     "text": [
      "{\n",
      "  \"Output\": \"No Proper Input\"\n",
      "}\n",
      "\n"
     ]
    }
   ],
   "source": [
    "url = \"http://127.0.0.1:8001/Ano_Det_Uni\"\n",
    "input_data = {\"rms\":0.0,\"mean\":0.0}\n",
    "json_data = json.dumps(input_data)\n",
    "headers = {'Content-Type': 'application/json'}\n",
    "response = requests.request(\"POST\", url, headers=headers, data = json_data)\n",
    "print(response.text)"
   ]
  },
  {
   "cell_type": "markdown",
   "metadata": {},
   "source": [
    "## Multivariate Anomaly Detection"
   ]
  },
  {
   "cell_type": "code",
   "execution_count": 5,
   "metadata": {},
   "outputs": [
    {
     "name": "stdout",
     "output_type": "stream",
     "text": [
      "{\n",
      "  \"Output\": \"Normal\"\n",
      "}\n",
      "\n"
     ]
    }
   ],
   "source": [
    "url = \"http://127.0.0.1:8001/Ano_Det_Multi\"\n",
    "input_data = {\"Bearing1\": 0.0619, \"Bearing2\": 0.0751, \"Bearing3\": 0.0825, \"Bearing4\": 0.0438}\n",
    "json_data = json.dumps(input_data)\n",
    "headers = {'Content-Type': 'application/json'}\n",
    "response = requests.request(\"POST\", url, headers=headers, data = json_data)\n",
    "print(response.text)"
   ]
  },
  {
   "cell_type": "code",
   "execution_count": 6,
   "metadata": {},
   "outputs": [
    {
     "name": "stdout",
     "output_type": "stream",
     "text": [
      "{\n",
      "  \"Output\": \"Anomaly\"\n",
      "}\n",
      "\n"
     ]
    }
   ],
   "source": [
    "url = \"http://127.0.0.1:8001/Ano_Det_Multi\"\n",
    "input_data = {\"Bearing1\": 0.1156, \"Bearing2\": 0.0802, \"Bearing3\": 0.0818, \"Bearing4\": 0.0512}\n",
    "json_data = json.dumps(input_data)\n",
    "headers = {'Content-Type': 'application/json'}\n",
    "response = requests.request(\"POST\", url, headers=headers, data = json_data)\n",
    "print(response.text)"
   ]
  },
  {
   "cell_type": "code",
   "execution_count": 7,
   "metadata": {},
   "outputs": [
    {
     "name": "stdout",
     "output_type": "stream",
     "text": [
      "{\n",
      "  \"Output\": \"No Proper Input\"\n",
      "}\n",
      "\n"
     ]
    }
   ],
   "source": [
    "url = \"http://127.0.0.1:8001/Ano_Det_Multi\"\n",
    "input_data = {\"Bearing1\": 0.0, \"Bearing2\": 0.0, \"Bearing3\": 0.0, \"Bearing4\": 0.0}\n",
    "json_data = json.dumps(input_data)\n",
    "headers = {'Content-Type': 'application/json'}\n",
    "response = requests.request(\"POST\", url, headers=headers, data = json_data)\n",
    "print(response.text)"
   ]
  },
  {
   "cell_type": "markdown",
   "metadata": {},
   "source": [
    "## RUL Prediction"
   ]
  },
  {
   "cell_type": "code",
   "execution_count": 8,
   "metadata": {},
   "outputs": [
    {
     "name": "stdout",
     "output_type": "stream",
     "text": [
      "{\n",
      "  \"Fraction Failing\": \"40-60%\", \n",
      "  \"RUL\": \"40%\", \n",
      "  \"RUL_Class\": 3\n",
      "}\n",
      "\n"
     ]
    }
   ],
   "source": [
    "url = \"http://127.0.0.1:8001/RUL_Predict\"\n",
    "input_data = {\"Bearing1_RMS\":0.0815,\"Bearing1_Kurt\":3.5667,\"Bearing1_RMS_Prev\":0.0775,\"Bearing1_Kurt_Prev\":3.3030}\n",
    "json_data = json.dumps(input_data)\n",
    "headers = {'Content-Type': 'application/json'}\n",
    "response = requests.request(\"POST\", url, headers=headers, data = json_data)\n",
    "print(response.text)"
   ]
  },
  {
   "cell_type": "code",
   "execution_count": 9,
   "metadata": {},
   "outputs": [
    {
     "name": "stdout",
     "output_type": "stream",
     "text": [
      "{\n",
      "  \"Fraction Failing\": \"No Proper Input\", \n",
      "  \"RUL\": \"No Proper Input\", \n",
      "  \"RUL_Class\": \"No Proper Input\"\n",
      "}\n",
      "\n"
     ]
    }
   ],
   "source": [
    "url = \"http://127.0.0.1:8001/RUL_Predict\"\n",
    "input_data = {\"Bearing1_RMS\":0.0,\"Bearing1_Kurt\":0.0,\"Bearing1_RMS_Prev\":0.0,\"Bearing1_Kurt_Prev\":0.0}\n",
    "json_data = json.dumps(input_data)\n",
    "headers = {'Content-Type': 'application/json'}\n",
    "response = requests.request(\"POST\", url, headers=headers, data = json_data)\n",
    "print(response.text)"
   ]
  },
  {
   "cell_type": "code",
   "execution_count": null,
   "metadata": {},
   "outputs": [],
   "source": []
  }
 ],
 "metadata": {
  "kernelspec": {
   "display_name": "Python 3",
   "language": "python",
   "name": "python3"
  },
  "language_info": {
   "codemirror_mode": {
    "name": "ipython",
    "version": 3
   },
   "file_extension": ".py",
   "mimetype": "text/x-python",
   "name": "python",
   "nbconvert_exporter": "python",
   "pygments_lexer": "ipython3",
   "version": "3.8.3"
  }
 },
 "nbformat": 4,
 "nbformat_minor": 4
}
